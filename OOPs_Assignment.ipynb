{
 "cells": [
  {
   "cell_type": "markdown",
   "id": "d7662e63",
   "metadata": {},
   "source": [
    "#                              PWskills OOPs  Assignment \n",
    "\n",
    "## Theoretical Questions"
   ]
  },
  {
   "cell_type": "markdown",
   "id": "37403323",
   "metadata": {},
   "source": [
    "### 1.  What is Object-Oriented Programming (OOP)?\n",
    "#### Object-Oriented Programming (OOP) is a programming approach that uses objects to represent real-world entities. It focuses on organizing code into classes and objects to improve reusability and maintainability. The main principles of OOP are encapsulation, abstraction, inheritance,and polymorphism.\n",
    "\n",
    "\n",
    "### 2. What is a class in OOP?\n",
    "#### A **class** in Object-Oriented Programming (OOP) is a **blueprint or template** for creating objects. It defines the **attributes (data)** and **methods (functions)** that the objects created from it will have. In simple terms, a class describes **what an object is and what it can do.**\n",
    "\n",
    "\n",
    "### 3. What is an object in OOP ?\n",
    "#### An **object** in Object-Oriented Programming (OOP) is an **instance of a class**. It represents a **real-world entity** and contains **data (attributes)** and **methods (functions)** that define its behavior. In simple terms, an object is something that is created from a class and performs actions using the class’s properties.\n",
    "\n",
    "### 4. H What is the difference between abstraction and encapsulation?\n",
    "#### **Abstraction** focuses on **hiding unnecessary details** and showing only the essential features of an object, making it easier to understand and use.\n",
    "#### **Encapsulation** means **wrapping data and methods** into a single unit (class) and **restricting direct access** to the data to protect it from outside interference.\n",
    "\n",
    "\n",
    "### 5. What are dunder methods in Python?\n",
    "#### **Dunder methods** in Python (short for **“double underscore” methods**) are **special built-in methods** that begin and end with double underscores, like __init__, __str__, or __add__. They are used to define how objects of a class **behave with built-in operations**, such as initialization, printing, or arithmetic. For example, __init__ initializes an object, and __str__ defines how it’s displayed as a string.\n",
    "\n",
    "### 6.  Explain the concept of inheritance in OOP?\n",
    "#### **Inheritance** in Object-Oriented Programming (OOP) is a concept where a **child class** (or subclass) can **inherit properties and methods** from a **parent class** (or superclass). It promotes **code reusability** and helps in creating a **hierarchical relationship** between classes. For example, a `Car` class can inherit from a `Vehicle` class and use its features while adding its own specific attributes or methods.\n",
    "\n",
    "### 7. What is polymorphism in OOP?\n",
    "#### Polymorphism in Object-Oriented Programming (OOP) means having one function or method behave differently based on the object it is acting upon. In simple terms, it allows the same operation to perform different tasks in different situations.\n",
    "\n",
    "### 8. How is encapsulation achieved in Python?\n",
    "#### Encapsulation in Python is achieved by restricting access to the internal data of a class using access modifiers. We use:\n",
    "\n",
    "#### A single underscore (_) to indicate a protected attribute, and\n",
    "#### A double underscore (__) to make an attribute private.\n",
    "\n",
    "#### This ensures that data can only be accessed or modified through getter and setter methods, protecting it from direct external modification.\n",
    "\n",
    "### 9. What is a constructor in Python?\n",
    "#### A constructor is a special method (__init__) used to initialize an object when it is created. It sets the initial values of an object's attributes.\n",
    "\n",
    "### 10. What are class and static methods in Python?\n",
    "#### Class methods (@classmethod) take the class itself as the first argument and can access or modify class variables. Static methods (@staticmethod) do not take self or cls and are independent of class or instance, usually used for utility functions.\n",
    "\n",
    "### 11. What is method overloading in Python?\n",
    "#### Method overloading means defining multiple methods with the same name but different arguments. Python doesn’t support it directly but it can be simulated using default arguments.\n",
    "\n",
    "### 12. What is method overriding in OOP?\n",
    "#### Method overriding occurs when a child class redefines a method of its parent class to provide a specific implementation.\n",
    "\n",
    "### 13. What is a property decorator in Python?\n",
    "#### The @property decorator allows a method to be accessed like an attribute, enabling controlled access to private variables.\n",
    "\n",
    "### 14. Why is polymorphism important in OOP?\n",
    "#### Polymorphism allows different objects to be treated uniformly, enabling flexibility, code reuse, and simpler maintenance.\n",
    "\n",
    "### 15. What is an abstract class in Python?\n",
    "#### An abstract class is a class that cannot be instantiated and may contain abstract methods (declared using @abstractmethod) that must be implemented by subclasses.\n",
    "\n",
    "### 16. What are the advantages of OOP?\n",
    "#### Advantages of OOP include modularity and code reuse, easier maintenance, modeling real-world entities naturally, and supporting inheritance and polymorphism.\n",
    "\n",
    "### 17. What is the difference between a class variable and an instance variable?\n",
    "#### A class variable is shared among all instances of the class, while an instance variable is unique to each object or instance of the class.\n",
    "\n",
    "### 18. What is multiple inheritance in Python?\n",
    "#### Multiple inheritance allows a child class to inherit from more than one parent class, gaining properties and methods from all parents.\n",
    "\n",
    "### 19. Explain the purpose of __str__ and __repr__ methods in Python.\n",
    "#### __str__ returns a readable string for the object (used by print()), while __repr__ returns an unambiguous string for developers (used in debugging).\n",
    "\n",
    "### 20. What is the significance of the super() function in Python?\n",
    "#### super() is used to call a method from the parent class, often for initialization or extending functionality.\n",
    "\n",
    "### 21. What is the significance of the __del__ method in Python?\n",
    "#### __del__ is a destructor method called when an object is about to be destroyed, used to release resources.\n",
    "\n",
    "### 22. What is the difference between @staticmethod and @classmethod in Python?\n",
    "#### @staticmethod does not access class or instance data and behaves like a regular function inside a class. @classmethod takes the class as the first argument and can modify class state.\n",
    "\n",
    "### 23. How does polymorphism work in Python with inheritance?\n",
    "#### Polymorphism allows a child class object to be treated as a parent class object, enabling methods to behave differently based on the actual object's class.\n",
    "\n",
    "### 24. What is method chaining in Python OOP?\n",
    "#### Method chaining allows calling multiple methods in a single line because each method returns the object itself (self).\n",
    "\n",
    "### 25. What is the purpose of the __call__ method in Python?\n",
    "#### The __call__ method allows an object to be called like a function, enabling objects to have function-like behavior.\n",
    "\n"
   ]
  },
  {
   "cell_type": "markdown",
   "id": "56c65cb3",
   "metadata": {},
   "source": [
    "## Practical Questions"
   ]
  },
  {
   "cell_type": "code",
   "execution_count": 2,
   "id": "60f9d2a7",
   "metadata": {},
   "outputs": [
    {
     "name": "stdout",
     "output_type": "stream",
     "text": [
      "Dog is barking\n"
     ]
    }
   ],
   "source": [
    "# 1. Parent class Animal with method speak()\n",
    "class Animal:\n",
    "    def speak(self):\n",
    "        print(\"Animal Speaks\")\n",
    "        \n",
    "class Dog(Animal):\n",
    "    def speak(self):\n",
    "        print(\"Dog is barking\")\n",
    "        \n",
    "obj= Dog()\n",
    "obj.speak()"
   ]
  },
  {
   "cell_type": "code",
   "execution_count": 9,
   "id": "a6681280",
   "metadata": {},
   "outputs": [
    {
     "name": "stdout",
     "output_type": "stream",
     "text": [
      "Area of Rectangle is 24\n",
      "Area of Square is 36\n"
     ]
    }
   ],
   "source": [
    "# 2. Abstract class Shape with Circle and Rectangle\n",
    "from abc import ABC, abstractmethod\n",
    "class Shape(ABC):\n",
    "    @abstractmethod\n",
    "    def Area(self):\n",
    "        pass\n",
    "    \n",
    "class Rectangle(Shape):\n",
    "    def __init__(self,length,breadth):\n",
    "        self.length=length\n",
    "        self.breadth=breadth\n",
    "    def Area(self):\n",
    "        return self.length*self.breadth\n",
    "    \n",
    "class Square(Shape):\n",
    "    def __init__(self,side):\n",
    "        self.side=side\n",
    "    def Area(self):\n",
    "        return self.side*self.side\n",
    "    \n",
    "obj_rec=Rectangle(4,6)\n",
    "obj_sqr=Square(6)\n",
    "print(f\"Area of Rectangle is {obj_rec.Area()}\")\n",
    "print(f\"Area of Square is {obj_sqr.Area()}\")"
   ]
  },
  {
   "cell_type": "code",
   "execution_count": 11,
   "id": "93e328b8",
   "metadata": {},
   "outputs": [
    {
     "name": "stdout",
     "output_type": "stream",
     "text": [
      "Car Tesla 100 kWh\n"
     ]
    }
   ],
   "source": [
    "# 3. Multi-level inheritance Vehicle -> Car -> ElectricCar\n",
    "class Vehicle:\n",
    "    def __init__(self, type):\n",
    "        self.type = type\n",
    "\n",
    "class Car(Vehicle):\n",
    "    def __init__(self,type,model):\n",
    "        super().__init__(type)\n",
    "        self.model=model\n",
    "        \n",
    "class ElectricCar(Car):\n",
    "    def __init__(self,type,model,battery):\n",
    "        super().__init__(type,model)\n",
    "        self.battery=battery\n",
    "        \n",
    "        \n",
    "ecar = ElectricCar(\"Car\", \"Tesla\", \"100 kWh\")\n",
    "print(ecar.type, ecar.model, ecar.battery)"
   ]
  },
  {
   "cell_type": "code",
   "execution_count": 13,
   "id": "43234dcd",
   "metadata": {},
   "outputs": [
    {
     "name": "stdout",
     "output_type": "stream",
     "text": [
      "Sparrow flies high\n",
      "Penguin cannot fly\n"
     ]
    }
   ],
   "source": [
    "# 4. Polymorphism with Bird classes\n",
    "class Bird:\n",
    "    def fly(self):\n",
    "        print(\"Some birds can fly\")\n",
    "\n",
    "class Sparrow(Bird):\n",
    "    def fly(self):\n",
    "        print(\"Sparrow flies high\")\n",
    "\n",
    "class Penguin(Bird):\n",
    "    def fly(self):\n",
    "        print(\"Penguin cannot fly\")\n",
    "\n",
    "birds = [Sparrow(), Penguin()]\n",
    "for b in birds:\n",
    "    b.fly()\n"
   ]
  },
  {
   "cell_type": "code",
   "execution_count": 15,
   "id": "39c9598d",
   "metadata": {},
   "outputs": [
    {
     "name": "stdout",
     "output_type": "stream",
     "text": [
      "1300\n"
     ]
    }
   ],
   "source": [
    "# 5. Encapsulation with BankAccount\n",
    "class BankAccount:\n",
    "    def __init__(self, balance):\n",
    "        self.__balance = balance\n",
    "\n",
    "    def deposit(self, amount):\n",
    "        self.__balance += amount\n",
    "\n",
    "    def withdraw(self, amount):\n",
    "        if amount <= self.__balance:\n",
    "            self.__balance -= amount\n",
    "        else:\n",
    "            print(\"Insufficient balance\")\n",
    "\n",
    "    def check_balance(self):\n",
    "        return self.__balance\n",
    "\n",
    "acc = BankAccount(1000)\n",
    "acc.deposit(500)\n",
    "acc.withdraw(200)\n",
    "print(acc.check_balance())\n"
   ]
  },
  {
   "cell_type": "code",
   "execution_count": 16,
   "id": "98dc09d8",
   "metadata": {},
   "outputs": [
    {
     "name": "stdout",
     "output_type": "stream",
     "text": [
      "Playing Guitar\n",
      "Playing Piano\n"
     ]
    }
   ],
   "source": [
    "# 6. Runtime polymorphism with Instrument\n",
    "class Instrument:\n",
    "    def play(self):\n",
    "        print(\"Playing instrument\")\n",
    "\n",
    "class Guitar(Instrument):\n",
    "    def play(self):\n",
    "        print(\"Playing Guitar\")\n",
    "\n",
    "class Piano(Instrument):\n",
    "    def play(self):\n",
    "        print(\"Playing Piano\")\n",
    "\n",
    "# Test\n",
    "instruments = [Guitar(), Piano()]\n",
    "for inst in instruments:\n",
    "    inst.play()\n"
   ]
  },
  {
   "cell_type": "code",
   "execution_count": 17,
   "id": "83119740",
   "metadata": {},
   "outputs": [
    {
     "name": "stdout",
     "output_type": "stream",
     "text": [
      "12\n",
      "7\n"
     ]
    }
   ],
   "source": [
    "# 7. Class and static methods\n",
    "class MathOperations:\n",
    "    @classmethod\n",
    "    def add_numbers(cls, a, b):\n",
    "        return a + b\n",
    "\n",
    "    @staticmethod\n",
    "    def subtract_numbers(a, b):\n",
    "        return a - b\n",
    "\n",
    "print(MathOperations.add_numbers(5, 7))\n",
    "print(MathOperations.subtract_numbers(10, 3))\n"
   ]
  },
  {
   "cell_type": "code",
   "execution_count": 22,
   "id": "822ea096",
   "metadata": {},
   "outputs": [
    {
     "name": "stdout",
     "output_type": "stream",
     "text": [
      "2\n"
     ]
    }
   ],
   "source": [
    "# 8. Counting number of Person objects\n",
    "class Person:\n",
    "    count = 0\n",
    "\n",
    "    def __init__(self):\n",
    "        Person.count+=1\n",
    "        \n",
    "    def total(cls):\n",
    "        return Person.count\n",
    "    \n",
    "p1=Person()\n",
    "p2=Person()\n",
    "\n",
    "print(Person.count)"
   ]
  },
  {
   "cell_type": "code",
   "execution_count": 23,
   "id": "b0c61457",
   "metadata": {},
   "outputs": [
    {
     "name": "stdout",
     "output_type": "stream",
     "text": [
      "3/4\n"
     ]
    }
   ],
   "source": [
    "# 9. Fraction class with __str__\n",
    "class Fraction:\n",
    "    def __init__(self, numerator, denominator):\n",
    "        self.numerator = numerator\n",
    "        self.denominator = denominator\n",
    "\n",
    "    def __str__(self):\n",
    "        return f\"{self.numerator}/{self.denominator}\"\n",
    "\n",
    "f = Fraction(3, 4)\n",
    "print(f)\n"
   ]
  },
  {
   "cell_type": "code",
   "execution_count": 1,
   "id": "100fc545",
   "metadata": {},
   "outputs": [
    {
     "name": "stdout",
     "output_type": "stream",
     "text": [
      "Vector(6, 8)\n"
     ]
    }
   ],
   "source": [
    "# 10. Operator overloading with Vector\n",
    "class Vector:\n",
    "    def __init__(self, x, y):\n",
    "        self.x = x\n",
    "        self.y = y\n",
    "\n",
    "    def __add__(self, other):\n",
    "        return Vector(self.x + other.x, self.y + other.y)\n",
    "\n",
    "    def __str__(self):\n",
    "        return f\"Vector({self.x}, {self.y})\"\n",
    "\n",
    "v1 = Vector(2, 3)\n",
    "v2 = Vector(4, 5)\n",
    "v3 = v1 + v2\n",
    "print(v3)\n"
   ]
  },
  {
   "cell_type": "code",
   "execution_count": 3,
   "id": "cde32b05",
   "metadata": {},
   "outputs": [
    {
     "name": "stdout",
     "output_type": "stream",
     "text": [
      "Hello, my name is John and I am 25 years old.\n"
     ]
    }
   ],
   "source": [
    "# 11. Person class with greet()\n",
    "class Person:\n",
    "    def __init__(self, name, age):\n",
    "        self.name = name\n",
    "        self.age = age\n",
    "\n",
    "    def greet(self):\n",
    "        print(f\"Hello, my name is {self.name} and I am {self.age} years old.\")\n",
    "\n",
    "        \n",
    "p = Person(\"John\", 25)\n",
    "p.greet()\n"
   ]
  },
  {
   "cell_type": "code",
   "execution_count": 4,
   "id": "c1f4e240",
   "metadata": {},
   "outputs": [
    {
     "name": "stdout",
     "output_type": "stream",
     "text": [
      "80.0\n"
     ]
    }
   ],
   "source": [
    "# 12. Student class with average_grade()\n",
    "class Student:\n",
    "    def __init__(self, name, grades):\n",
    "        self.name = name\n",
    "        self.grades = grades\n",
    "\n",
    "    def average_grade(self):\n",
    "        return sum(self.grades)/len(self.grades)\n",
    "\n",
    "s = Student(\"Alice\", [80, 90, 70])\n",
    "print(s.average_grade())\n"
   ]
  },
  {
   "cell_type": "code",
   "execution_count": 5,
   "id": "7b94a1c7",
   "metadata": {},
   "outputs": [
    {
     "name": "stdout",
     "output_type": "stream",
     "text": [
      "30\n"
     ]
    }
   ],
   "source": [
    "# 13. Rectangle class with set_dimensions and area\n",
    "class Rectangle:\n",
    "    def set_dimensions(self, length, width):\n",
    "        self.length = length\n",
    "        self.width = width\n",
    "\n",
    "    def area(self):\n",
    "        return self.length * self.width\n",
    "\n",
    "    \n",
    "rect = Rectangle()\n",
    "rect.set_dimensions(5, 6)\n",
    "print(rect.area())\n"
   ]
  },
  {
   "cell_type": "code",
   "execution_count": 6,
   "id": "953795b3",
   "metadata": {},
   "outputs": [
    {
     "name": "stdout",
     "output_type": "stream",
     "text": [
      "22000\n"
     ]
    }
   ],
   "source": [
    "# 14. Employee and Manager\n",
    "class Employee:\n",
    "    def calculate_salary(self, hours, rate):\n",
    "        return hours * rate\n",
    "\n",
    "class Manager(Employee):\n",
    "    def calculate_salary(self, hours, rate, bonus):\n",
    "        return super().calculate_salary(hours, rate) + bonus\n",
    "\n",
    "# Test\n",
    "m = Manager()\n",
    "print(m.calculate_salary(40, 500, 2000))\n"
   ]
  },
  {
   "cell_type": "code",
   "execution_count": null,
   "id": "72808214",
   "metadata": {},
   "outputs": [],
   "source": [
    "# 15. Product class with total_price\n",
    "class Product:\n",
    "    def __init__(self, name, price, quantity):\n",
    "        self.name = name\n",
    "        self.price = price\n",
    "        self.quantity = quantity\n",
    "\n",
    "    def total_price(self):\n",
    "        return self.price * self.quantity\n",
    "\n",
    "# Test\n",
    "p = Product(\"Laptop\", 50000, 2)\n",
    "print(p.total_price())\n",
    "\n"
   ]
  },
  {
   "cell_type": "code",
   "execution_count": 11,
   "id": "d4f22b1b",
   "metadata": {},
   "outputs": [
    {
     "name": "stdout",
     "output_type": "stream",
     "text": [
      "Moo\n",
      "Baa\n"
     ]
    }
   ],
   "source": [
    "# 16. Abstract Animal with Cow and Sheep\n",
    "from abc import ABC, abstractmethod\n",
    "\n",
    "class Animal(ABC):\n",
    "    @abstractmethod\n",
    "    def sound(self):\n",
    "        pass\n",
    "\n",
    "class Cow(Animal):\n",
    "    def sound(self):\n",
    "        print(\"Moo\")\n",
    "\n",
    "class Sheep(Animal):\n",
    "    def sound(self):\n",
    "        print(\"Baa\")\n",
    "\n",
    "        \n",
    "animals = [Cow(), Sheep()]\n",
    "for a in animals:\n",
    "    a.sound()\n"
   ]
  },
  {
   "cell_type": "code",
   "execution_count": 10,
   "id": "6d2c36f2",
   "metadata": {},
   "outputs": [
    {
     "name": "stdout",
     "output_type": "stream",
     "text": [
      "Title: 1984, Author: George Orwell, Year: 1949\n"
     ]
    }
   ],
   "source": [
    "# 17. Book class with get_book_info\n",
    "class Book:\n",
    "    def __init__(self, title, author, year_published):\n",
    "        self.title = title\n",
    "        self.author = author\n",
    "        self.year_published = year_published\n",
    "\n",
    "    def get_book_info(self):\n",
    "        return f\"Title: {self.title}, Author: {self.author}, Year: {self.year_published}\"\n",
    "\n",
    "    \n",
    "b = Book(\"1984\", \"George Orwell\", 1949)\n",
    "print(b.get_book_info())\n"
   ]
  },
  {
   "cell_type": "code",
   "execution_count": 9,
   "id": "5cb0f2e6",
   "metadata": {},
   "outputs": [
    {
     "name": "stdout",
     "output_type": "stream",
     "text": [
      "Palm Street 1000000 10\n"
     ]
    }
   ],
   "source": [
    "# 18. House and Mansion\n",
    "class House:\n",
    "    def __init__(self, address, price):\n",
    "        self.address = address\n",
    "        self.price = price\n",
    "\n",
    "class Mansion(House):\n",
    "    def __init__(self, address, price, number_of_rooms):\n",
    "        super().__init__(address, price)\n",
    "        self.number_of_rooms = number_of_rooms\n",
    "\n",
    "        \n",
    "mansion = Mansion(\"Palm Street\", 1000000, 10)\n",
    "print(mansion.address, mansion.price, mansion.number_of_rooms)\n"
   ]
  },
  {
   "cell_type": "code",
   "execution_count": null,
   "id": "d7c887ef",
   "metadata": {},
   "outputs": [],
   "source": []
  }
 ],
 "metadata": {
  "kernelspec": {
   "display_name": "Python 3 (ipykernel)",
   "language": "python",
   "name": "python3"
  },
  "language_info": {
   "codemirror_mode": {
    "name": "ipython",
    "version": 3
   },
   "file_extension": ".py",
   "mimetype": "text/x-python",
   "name": "python",
   "nbconvert_exporter": "python",
   "pygments_lexer": "ipython3",
   "version": "3.11.4"
  }
 },
 "nbformat": 4,
 "nbformat_minor": 5
}

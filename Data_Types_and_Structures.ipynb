{
  "nbformat": 4,
  "nbformat_minor": 0,
  "metadata": {
    "colab": {
      "provenance": []
    },
    "kernelspec": {
      "name": "python3",
      "display_name": "Python 3"
    },
    "language_info": {
      "name": "python"
    }
  },
  "cells": [
    {
      "cell_type": "markdown",
      "source": [
        "#Theoratical Questions\n",
        "\n",
        "\n",
        "\n",
        "\n",
        "---\n",
        "\n",
        "\n",
        "\n",
        "## Q1. What are data structures, and why are they important3\n",
        "### Data Structure is a way of Organizing, Storing and accessing data effeciently . It is important because we use data effeciently using data stucture\n",
        "\n",
        "\n",
        "\n",
        "\n",
        "---\n",
        "## Q2. Explain the difference between mutable and immutable data types with examples ?\n",
        "### Mutable Data Type: Objects that can be changed (modified) after they are created. Examples: list, dict, set, bytearray.\n",
        "\n",
        "### Immutable Data Types: Objects that cannot be changed after they are created. If you \"change\" them, a new object is created in memory.\n",
        "\n",
        "---\n",
        "## Q3 What are the main differences between lists and tuples in Python3 ?\n",
        "### Lists are mutable and tuples are immutable.\n",
        "\n",
        "---\n",
        "## Q4.  Describe how dictionaries store data?\n",
        "### Dictionaries store data in the form of key-value pair. for example : {a:\"Hello\" , b=\"World\"}\n",
        "\n",
        "---\n",
        "## Q5 Why might you use a set instead of a list in Python3 ?\n",
        "### When we have to handle unique data and sets has only unique elements.\n",
        "\n",
        "---\n",
        "## Q6. What is a string in Python, and how is it different from a list3?\n",
        "### In Python, a string is a sequence of characters enclosed within single quotes (' '), double quotes (\" \"), or triple quotes (''' ''' / \"\"\" \"\"\"). Strings are immutable, which means once a string is created, its contents cannot be changed. For example, if we try to modify a character in a string, Python will raise an error. Strings are commonly used to store and manipulate textual data such as words, sentences, or paragraphs.\n",
        "\n",
        "### On the other hand, a list is a sequence of elements that can contain items of different data types (such as integers, strings, floats, or even other lists). Lists are mutable, which means they can be modified after creation—items can be added, removed, or updated. Lists are defined using square brackets ([]).\n",
        "\n",
        "---\n",
        "## Q7.P How do tuples ensure data integrity in Python3?\n",
        "### In Python3, tuples ensure data integrity because they are immutable, meaning their elements cannot be modified once created. This prevents accidental changes to stored values, making data reliable and consistent. Tuples can also be used as dictionary keys and in sets, further supporting safe and secure data handling.\n",
        "\n",
        "---\n",
        "## Q8. 5P What is a hash table, and how does it relate to dictionaries in Python3?\n",
        "### A hash table is a data structure that stores key–value pairs and uses a hash function to compute an index where each key’s value is stored. This allows very fast lookups, insertions, and deletions (on average O(1) time complexity).\n",
        "\n",
        "### In Python3, the built-in dict (dictionary) is implemented using a hash table. Each dictionary key is hashed to determine its storage location, ensuring quick access to values. Since only immutable and hashable objects (like strings, numbers, tuples) can be used as dictionary keys, data remains consistent and efficiently retrievable\n",
        "\n",
        "---\n",
        "## Q9. Can lists contain different data types in Python3\n",
        "### Yes\n",
        "\n",
        "---\n",
        "## Q10. Explain why strings are immutable in Python ?\n",
        "### In Python, strings are immutable, meaning their contents cannot be changed after creation. This design ensures data integrity, memory efficiency, and security, as multiple variables can safely reference the same string object without risk of unintended modifications. If any operation appears to modify a string, Python actually creates a new string object instead of altering the original one.\n",
        "\n",
        "---\n",
        "## Q11. What advantages do dictionaries offer over lists for certain tasks3 ?\n",
        "### Dictionaries in Python offer advantages over lists when working with key–value pairs. They provide fast lookups, insertions, and deletions (O(1) on average) using hashing, whereas lists require linear searches (O(n)). Unlike lists that use only numeric indexes, dictionaries allow access by custom keys (e.g., strings, tuples), making data retrieval more intuitive and efficient for tasks like storing records, mappings, or configurations.\n",
        "\n",
        "---\n",
        "## Q12. Describe a scenario where using a tuple would be preferable over a listP\n",
        "### A tuple is preferable over a list when you need to store a fixed collection of data that should not change. For example, storing geographic coordinates (latitude, longitude) or days of the week is better done with a tuple, since immutability ensures the values remain constant and secure throughout the program.\n",
        "\n",
        "---\n",
        "## Q13. How do sets handle duplicate values in Python3\n",
        "### In Python3, sets automatically eliminate duplicate values. When elements are added to a set, only unique items are stored, and any repeated values are ignored. This makes sets useful for tasks that require collection of distinct elements.\n",
        "\n",
        "---\n",
        "## Q14. How does the “in” keyword work differently for lists and dictionaries?\n",
        "### In Python3, the in keyword checks for membership differently depending on the data structure. For lists, it tests whether a value exists among the elements. For dictionaries, it tests whether a key exists, not the values. This distinction ensures that membership checks behave appropriately for each type of collection.\n",
        "\n",
        "---\n",
        "## Q15. Can you modify the elements of a tuple? Explain why or why not ?\n",
        "### No, you cannot modify the elements of a tuple in Python. Tuples are immutable, which means their contents are fixed once created. This immutability ensures data integrity and prevents accidental changes, making tuples suitable for storing constant or unchangeable collections of values.\n",
        "\n",
        "---\n",
        "## Q16.  What is a nested dictionary, and give an example of its use case3 ?\n",
        "### A nested dictionary in Python is a dictionary that contains another dictionary as a value for one or more of its keys. This structure allows representing hierarchical or structured data, such as storing information about students where each student has their own dictionary of details like age, grade, and address.\n",
        "\n",
        "---\n",
        "## Q17. Describe the time complexity of accessing elements in a dictionary?\n",
        "### O(1)\n",
        "\n",
        "---\n",
        "## Q18.  In what situations are lists preferred over dictionaries3 ?\n",
        "### Lists are preferred over dictionaries when the data is ordered and accessed primarily by position (index) rather than by key. They are ideal for storing sequences of items, maintaining order, or performing operations like iteration, slicing, and appending, where the key–value structure of dictionaries is unnecessary.\n",
        "\n",
        "---\n",
        "## Q19. Why are dictionaries considered unordered, and how does that affect data retrieval3?\n",
        "### Dictionaries in Python are considered unordered because they do not maintain elements in the order they were added . This means data is retrieved using keys rather than position, so you cannot rely on the order of items when iterating or accessing elements.\n",
        "\n",
        "---\n",
        "## Q20. Explain the difference between a list and a dictionary in terms of data retrieval?\n",
        "### The main difference between a list and a dictionary in data retrieval is the way elements are accessed. In a list, elements are retrieved using their index positions, which requires linear search for specific values. In a dictionary, elements are retrieved using keys, allowing direct and fast access to values without searching through all items.\n"
      ],
      "metadata": {
        "id": "HaRFn1EC6BX8"
      }
    },
    {
      "cell_type": "markdown",
      "source": [
        "#Practical Questiomn"
      ],
      "metadata": {
        "id": "gmf9LwX3IGmz"
      }
    },
    {
      "cell_type": "code",
      "source": [
        "#1.\n",
        "name=\"Awanit Saha\"\n",
        "print(name)"
      ],
      "metadata": {
        "colab": {
          "base_uri": "https://localhost:8080/"
        },
        "id": "pX-EhfY9Iau7",
        "outputId": "6d47c92c-e106-4821-c4b2-13cbf17ab995"
      },
      "execution_count": 3,
      "outputs": [
        {
          "output_type": "stream",
          "name": "stdout",
          "text": [
            "Awanit Saha\n"
          ]
        }
      ]
    },
    {
      "cell_type": "code",
      "source": [
        "#2.\n",
        "s=\"Hello World\"\n",
        "print(len(s))"
      ],
      "metadata": {
        "colab": {
          "base_uri": "https://localhost:8080/"
        },
        "id": "U47Z06BGI0Bn",
        "outputId": "9eb31d26-3914-4c31-f976-11c19c15c327"
      },
      "execution_count": 4,
      "outputs": [
        {
          "output_type": "stream",
          "name": "stdout",
          "text": [
            "11\n"
          ]
        }
      ]
    },
    {
      "cell_type": "code",
      "source": [
        "#3.\n",
        "s1=\"Python Programming\"\n",
        "print(s1[:3])"
      ],
      "metadata": {
        "colab": {
          "base_uri": "https://localhost:8080/"
        },
        "id": "tSKiK5wlJEjk",
        "outputId": "e1a934bc-b414-41be-f1b8-9e21b216a5a3"
      },
      "execution_count": 7,
      "outputs": [
        {
          "output_type": "stream",
          "name": "stdout",
          "text": [
            "Pyt\n"
          ]
        }
      ]
    },
    {
      "cell_type": "code",
      "source": [
        "#4.\n",
        "s2=\"hello\"\n",
        "s3=s2.upper()\n",
        "print(s3)"
      ],
      "metadata": {
        "colab": {
          "base_uri": "https://localhost:8080/"
        },
        "id": "mIuI18CqJPoE",
        "outputId": "89fe792c-5e97-4172-90e0-ee6676367eef"
      },
      "execution_count": 8,
      "outputs": [
        {
          "output_type": "stream",
          "name": "stdout",
          "text": [
            "HELLO\n"
          ]
        }
      ]
    },
    {
      "cell_type": "code",
      "source": [
        "#5.\n",
        "s4=\"I like apple\"\n",
        "s5=s4.replace(\"apple\", \"orange\")\n",
        "print(s5)"
      ],
      "metadata": {
        "colab": {
          "base_uri": "https://localhost:8080/"
        },
        "id": "ACi2T8O9JdZP",
        "outputId": "9d7c240c-4b2c-4d8f-b938-23b022b5b1a9"
      },
      "execution_count": 10,
      "outputs": [
        {
          "output_type": "stream",
          "name": "stdout",
          "text": [
            "I like orange\n"
          ]
        }
      ]
    },
    {
      "cell_type": "code",
      "source": [
        "#6.\n",
        "\n",
        "lis=[i for i in range(1,6)]\n",
        "print(lis)"
      ],
      "metadata": {
        "colab": {
          "base_uri": "https://localhost:8080/"
        },
        "id": "tSbT-_BvJ1sE",
        "outputId": "b4dfbd97-b57b-46c9-c88b-e5cdf6d33e68"
      },
      "execution_count": 12,
      "outputs": [
        {
          "output_type": "stream",
          "name": "stdout",
          "text": [
            "[1, 2, 3, 4, 5]\n"
          ]
        }
      ]
    },
    {
      "cell_type": "code",
      "source": [
        "#7.\n",
        "lis1=[1,2,3,4]\n",
        "lis1.append(10)\n",
        "print(lis1)"
      ],
      "metadata": {
        "colab": {
          "base_uri": "https://localhost:8080/"
        },
        "id": "XAMLeFCxKPVz",
        "outputId": "4fe77f6a-75b0-4332-b1eb-55c7eda0f3ed"
      },
      "execution_count": 13,
      "outputs": [
        {
          "output_type": "stream",
          "name": "stdout",
          "text": [
            "[1, 2, 3, 4, 10]\n"
          ]
        }
      ]
    },
    {
      "cell_type": "code",
      "source": [
        "#8.\n",
        "lis.remove(3)\n",
        "print(lis)"
      ],
      "metadata": {
        "colab": {
          "base_uri": "https://localhost:8080/"
        },
        "id": "J3G7mmHFKa_z",
        "outputId": "49c73a56-6224-49bd-d7c2-9df755790182"
      },
      "execution_count": 14,
      "outputs": [
        {
          "output_type": "stream",
          "name": "stdout",
          "text": [
            "[1, 2, 4, 5]\n"
          ]
        }
      ]
    },
    {
      "cell_type": "code",
      "source": [
        "#9\n",
        "lis2=['a','b','c','d']\n",
        "\n",
        "print(lis2[1])"
      ],
      "metadata": {
        "colab": {
          "base_uri": "https://localhost:8080/"
        },
        "id": "Hg7gZYZrKkGs",
        "outputId": "f5e09acc-5b62-408d-f69b-2a7630ee6978"
      },
      "execution_count": 15,
      "outputs": [
        {
          "output_type": "stream",
          "name": "stdout",
          "text": [
            "b\n"
          ]
        }
      ]
    },
    {
      "cell_type": "code",
      "source": [
        "#10.\n",
        "lis3=[10,20,30,40,50]\n",
        "lis3.reverse()\n",
        "print(lis3)"
      ],
      "metadata": {
        "colab": {
          "base_uri": "https://localhost:8080/"
        },
        "id": "jqSm5yCUKtLl",
        "outputId": "c1572d79-0590-4a2a-d95b-8b43413b8f88"
      },
      "execution_count": 16,
      "outputs": [
        {
          "output_type": "stream",
          "name": "stdout",
          "text": [
            "[50, 40, 30, 20, 10]\n"
          ]
        }
      ]
    },
    {
      "cell_type": "code",
      "source": [
        "#11.\n",
        "tup=(100,200,300)\n",
        "print(tup)"
      ],
      "metadata": {
        "colab": {
          "base_uri": "https://localhost:8080/"
        },
        "id": "tdT67Da0K9QA",
        "outputId": "312a4a9b-8789-49b9-8da4-0310b921450f"
      },
      "execution_count": 17,
      "outputs": [
        {
          "output_type": "stream",
          "name": "stdout",
          "text": [
            "(100, 200, 300)\n"
          ]
        }
      ]
    },
    {
      "cell_type": "code",
      "source": [
        "#12.\n",
        "tup1= ('red', 'green', 'blue', 'yellow')\n",
        "print(tup1[1:])"
      ],
      "metadata": {
        "colab": {
          "base_uri": "https://localhost:8080/"
        },
        "id": "Pts9vgocLHUf",
        "outputId": "57ba16b4-6121-4be2-e363-03bad089e69b"
      },
      "execution_count": 18,
      "outputs": [
        {
          "output_type": "stream",
          "name": "stdout",
          "text": [
            "('green', 'blue', 'yellow')\n"
          ]
        }
      ]
    },
    {
      "cell_type": "code",
      "source": [
        "#13.\n",
        "tup2= (10, 20, 5, 15)\n",
        "print(min(tup2))"
      ],
      "metadata": {
        "colab": {
          "base_uri": "https://localhost:8080/"
        },
        "id": "2UE_zUJ6LUAz",
        "outputId": "16d96f9a-cef8-4240-fbdc-83d881d8635a"
      },
      "execution_count": 20,
      "outputs": [
        {
          "output_type": "stream",
          "name": "stdout",
          "text": [
            "5\n"
          ]
        }
      ]
    },
    {
      "cell_type": "code",
      "source": [
        "#14.\n",
        "tup3= ('dog', 'cat', 'rabbit')\n",
        "print(tup3.index('cat'))"
      ],
      "metadata": {
        "colab": {
          "base_uri": "https://localhost:8080/"
        },
        "id": "yXc0tmgGLaSH",
        "outputId": "2af417cc-06fe-4938-8402-e944c032f15e"
      },
      "execution_count": 21,
      "outputs": [
        {
          "output_type": "stream",
          "name": "stdout",
          "text": [
            "1\n"
          ]
        }
      ]
    },
    {
      "cell_type": "code",
      "source": [
        "#15\n",
        "tup3=(\"Apple\", \"Banana\", \"Cherry\")\n",
        "print(\"kiwi\" in tup3)"
      ],
      "metadata": {
        "colab": {
          "base_uri": "https://localhost:8080/"
        },
        "id": "5Z19-PKsLonz",
        "outputId": "56003535-7b7a-4390-a788-6b78618ae835"
      },
      "execution_count": 23,
      "outputs": [
        {
          "output_type": "stream",
          "name": "stdout",
          "text": [
            "False\n"
          ]
        }
      ]
    },
    {
      "cell_type": "code",
      "source": [
        "#16\n",
        "se1={'a','b','c','d'}\n",
        "print(se1)"
      ],
      "metadata": {
        "colab": {
          "base_uri": "https://localhost:8080/"
        },
        "id": "A39QjiYFL1Df",
        "outputId": "eeeea645-bae9-416f-a262-60360633fbcb"
      },
      "execution_count": 24,
      "outputs": [
        {
          "output_type": "stream",
          "name": "stdout",
          "text": [
            "{'c', 'a', 'b', 'd'}\n"
          ]
        }
      ]
    },
    {
      "cell_type": "code",
      "source": [
        "#17\n",
        "se2={1,22,3,4,5}\n",
        "se2.clear()\n",
        "  print(se2)"
      ],
      "metadata": {
        "colab": {
          "base_uri": "https://localhost:8080/"
        },
        "id": "RBk-4TagMbwa",
        "outputId": "cd1c1e09-49f8-43ea-be90-fb1b32e6b7db"
      },
      "execution_count": 26,
      "outputs": [
        {
          "output_type": "stream",
          "name": "stdout",
          "text": [
            "set()\n"
          ]
        }
      ]
    },
    {
      "cell_type": "code",
      "source": [
        "#18\n",
        "se3={1,2,3,4}\n",
        "se3.remove(4)\n",
        "print(se3)"
      ],
      "metadata": {
        "colab": {
          "base_uri": "https://localhost:8080/"
        },
        "id": "3D6TCf9zMsa7",
        "outputId": "9f85aba8-93e4-4df2-feb5-69fcdcaab09e"
      },
      "execution_count": 27,
      "outputs": [
        {
          "output_type": "stream",
          "name": "stdout",
          "text": [
            "{1, 2, 3}\n"
          ]
        }
      ]
    },
    {
      "cell_type": "code",
      "source": [
        "#19\n",
        "se4={3,4,5}\n",
        "se5= se3 | se4\n",
        "print(se5)"
      ],
      "metadata": {
        "colab": {
          "base_uri": "https://localhost:8080/"
        },
        "id": "0aR8Z3KaM6gb",
        "outputId": "725258ba-7079-47fe-9c25-e2571aca5d5f"
      },
      "execution_count": 34,
      "outputs": [
        {
          "output_type": "stream",
          "name": "stdout",
          "text": [
            "{1, 2, 3, 4, 5}\n"
          ]
        }
      ]
    },
    {
      "cell_type": "code",
      "source": [
        "#20\n",
        "se6={2,3,4}\n",
        "se7= se6 & se3\n",
        "print(se7)"
      ],
      "metadata": {
        "colab": {
          "base_uri": "https://localhost:8080/"
        },
        "id": "-QL-YRbVNHhs",
        "outputId": "231192ef-6d74-43a1-9a23-f428abb3793f"
      },
      "execution_count": 35,
      "outputs": [
        {
          "output_type": "stream",
          "name": "stdout",
          "text": [
            "{2, 3}\n"
          ]
        }
      ]
    },
    {
      "cell_type": "code",
      "source": [
        "#21\n",
        "dic={\"name\" : \"Awanit\", \"city\" : \"Gorakhpur\", \"age\" : 19}\n",
        "print(dic)"
      ],
      "metadata": {
        "colab": {
          "base_uri": "https://localhost:8080/"
        },
        "id": "8ZKRBnuFNmjz",
        "outputId": "2dd66af0-4c0a-42a7-d607-d2a598c6fbd7"
      },
      "execution_count": 43,
      "outputs": [
        {
          "output_type": "stream",
          "name": "stdout",
          "text": [
            "{'name': 'Awanit', 'city': 'Gorakhpur', 'age': 19}\n"
          ]
        }
      ]
    },
    {
      "cell_type": "code",
      "source": [
        "#22\n",
        "dic1={'name': 'John', 'age': 25}\n",
        "dic1['country']= \"USA\"\n",
        "print(dic1)"
      ],
      "metadata": {
        "colab": {
          "base_uri": "https://localhost:8080/"
        },
        "id": "KKy1jFAFOG_I",
        "outputId": "1c236b39-c407-4a5b-b09b-abd0ed912098"
      },
      "execution_count": 47,
      "outputs": [
        {
          "output_type": "stream",
          "name": "stdout",
          "text": [
            "{'name': 'John', 'age': 25, 'country': 'USA'}\n"
          ]
        }
      ]
    },
    {
      "cell_type": "code",
      "source": [
        "#23\n",
        "dic2={'name': 'Alice', 'age': 30}\n",
        "print(dic2[\"name\"])"
      ],
      "metadata": {
        "colab": {
          "base_uri": "https://localhost:8080/"
        },
        "id": "xjaSgvnPPOgX",
        "outputId": "1fcf0468-dd2e-4ec2-8426-adbf34b620e8"
      },
      "execution_count": 50,
      "outputs": [
        {
          "output_type": "stream",
          "name": "stdout",
          "text": [
            "Alice\n"
          ]
        }
      ]
    },
    {
      "cell_type": "code",
      "source": [
        "#24\n",
        "dic3= {'name': 'Bob', 'age': 22, 'city': 'New York'}\n",
        "dic3.pop(\"age\")"
      ],
      "metadata": {
        "colab": {
          "base_uri": "https://localhost:8080/"
        },
        "id": "pNrPq66mPi0H",
        "outputId": "1342f5ba-1b1c-4d38-c310-8905e04044c4"
      },
      "execution_count": 53,
      "outputs": [
        {
          "output_type": "execute_result",
          "data": {
            "text/plain": [
              "22"
            ]
          },
          "metadata": {},
          "execution_count": 53
        }
      ]
    },
    {
      "cell_type": "code",
      "source": [
        "#25\n",
        "dic4=  {'name': 'Alice', 'city': 'Paris'}\n",
        "print(\"city\" in dic4)"
      ],
      "metadata": {
        "colab": {
          "base_uri": "https://localhost:8080/"
        },
        "id": "mge8cPQBQFta",
        "outputId": "34b3bb81-47d5-4a71-829f-774f50dd91e4"
      },
      "execution_count": 55,
      "outputs": [
        {
          "output_type": "stream",
          "name": "stdout",
          "text": [
            "True\n"
          ]
        }
      ]
    },
    {
      "cell_type": "code",
      "source": [
        "#26\n",
        "# Creating a list\n",
        "my_list = [1, 2, 3, 4, 5]\n",
        "\n",
        "# Creating a tuple\n",
        "my_tuple = (10, 20, 30, 40, 50)\n",
        "\n",
        "# Creating a dictionary\n",
        "my_dict = {\"name\": \"Alice\", \"age\": 25, \"city\": \"Delhi\"}\n",
        "\n",
        "# Printing all\n",
        "print(\"List:\", my_list)\n",
        "print(\"Tuple:\", my_tuple)\n",
        "print(\"Dictionary:\", my_dict)\n"
      ],
      "metadata": {
        "colab": {
          "base_uri": "https://localhost:8080/"
        },
        "id": "RHG0oCN8Qexq",
        "outputId": "56b308b9-1f14-4c44-eb28-78742d052133"
      },
      "execution_count": 56,
      "outputs": [
        {
          "output_type": "stream",
          "name": "stdout",
          "text": [
            "List: [1, 2, 3, 4, 5]\n",
            "Tuple: (10, 20, 30, 40, 50)\n",
            "Dictionary: {'name': 'Alice', 'age': 25, 'city': 'Delhi'}\n"
          ]
        }
      ]
    },
    {
      "cell_type": "code",
      "source": [
        "#27\n",
        "import random\n",
        "lis=[random.randint(1,100) for i in range(5)]\n",
        "print(lis)"
      ],
      "metadata": {
        "colab": {
          "base_uri": "https://localhost:8080/"
        },
        "id": "4H6-KL1tQ8nb",
        "outputId": "b9df266a-823e-4e7b-b100-fd7c7c2765da"
      },
      "execution_count": 59,
      "outputs": [
        {
          "output_type": "stream",
          "name": "stdout",
          "text": [
            "[76, 75, 74, 99, 77]\n"
          ]
        }
      ]
    },
    {
      "cell_type": "code",
      "source": [
        "#28\n",
        "fruits = [\"apple\", \"banana\", \"cherry\", \"date\", \"elderberry\"]\n",
        "\n",
        "print(fruits[3])\n"
      ],
      "metadata": {
        "colab": {
          "base_uri": "https://localhost:8080/"
        },
        "id": "Dxffd-xZRn8N",
        "outputId": "82a7ae99-b2cd-4786-d06e-e53964f8e20d"
      },
      "execution_count": 60,
      "outputs": [
        {
          "output_type": "stream",
          "name": "stdout",
          "text": [
            "date\n"
          ]
        }
      ]
    },
    {
      "cell_type": "code",
      "source": [
        "#29\n",
        "dict1 = {\"a\": 1, \"b\": 2}\n",
        "dict2 = {\"c\": 3, \"d\": 4}\n",
        "dict1.update(dict2)\n",
        "\n",
        "print(\"Combined Dictionary:\", dict1)\n"
      ],
      "metadata": {
        "colab": {
          "base_uri": "https://localhost:8080/"
        },
        "id": "FOGnJyasS1eS",
        "outputId": "34c87901-f5d9-4c1f-aed2-ab72dce12680"
      },
      "execution_count": 66,
      "outputs": [
        {
          "output_type": "stream",
          "name": "stdout",
          "text": [
            "Combined Dictionary: {'a': 1, 'b': 2, 'c': 3, 'd': 4}\n"
          ]
        }
      ]
    },
    {
      "cell_type": "code",
      "source": [
        "#30\n",
        "\n",
        "fruits = [\"apple\", \"banana\", \"cherry\", \"apple\", \"banana\"]\n",
        "\n",
        "fruit_set = set(fruits)\n",
        "\n",
        "print(\"Set of fruits:\", fruit_set)\n"
      ],
      "metadata": {
        "colab": {
          "base_uri": "https://localhost:8080/"
        },
        "id": "tHj4snQVTDI2",
        "outputId": "67e0119c-4b5b-4838-d908-9ff3c616a688"
      },
      "execution_count": 68,
      "outputs": [
        {
          "output_type": "stream",
          "name": "stdout",
          "text": [
            "Set of fruits: {'cherry', 'banana', 'apple'}\n"
          ]
        }
      ]
    },
    {
      "cell_type": "code",
      "source": [],
      "metadata": {
        "id": "P6Brq1r6UP1x"
      },
      "execution_count": null,
      "outputs": []
    }
  ]
}
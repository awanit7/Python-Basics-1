{
  "nbformat": 4,
  "nbformat_minor": 0,
  "metadata": {
    "colab": {
      "provenance": []
    },
    "kernelspec": {
      "name": "python3",
      "display_name": "Python 3"
    },
    "language_info": {
      "name": "python"
    }
  },
  "cells": [
    {
      "cell_type": "markdown",
      "source": [
        " **Q1. What is Python, and why is it popular ?**\n",
        "\n",
        " Python is High level , interpreted programing language .\n",
        "\n",
        "It is popular for :\n",
        "1. Easy Syntax\n",
        "2. For Huge Standard Libraries.\n",
        "3. For AI, ML.\n",
        "\n",
        "\n",
        "---\n",
        "\n",
        "\n",
        "\n",
        "**Q2. What is an interpreter in Python ?**\n",
        "\n",
        "An interpreter executes Python code line by line instead of compiling the whole program at once.\n",
        "\n",
        "\n",
        "---\n",
        "\n",
        "\n",
        "\n",
        "**Q3. What are pre-defined keywords in Python ?**\n",
        "\n",
        "Keywords are reserved words in Python that have special meaning and cannot be used as identifiers\n",
        "\n",
        "\n",
        "---\n",
        "\n",
        "\n",
        "**Q4. Can keywords be used as variable names?**\n",
        "\n",
        "NO\n",
        "\n",
        "\n",
        "\n",
        "\n",
        "---\n",
        "\n",
        "\n",
        "\n",
        "**Q5. What is mutability in Python ?**\n",
        "Mutability means an object can be changed after it is created.\n",
        "\n",
        "Mutable → Can be modified (like list, dict, set).\n",
        "\n",
        "Immutable → Cannot be modified (like tuple, str, int).\n",
        "\n",
        "\n",
        "\n",
        "\n",
        "---\n",
        "\n",
        "**Q6. Why are lists mutable, but tuples are immutable?**\n",
        "\n",
        "Lists → Designed to be flexible, so elements can be added/removed/changed.\n",
        "\n",
        "Tuples → Designed for fixed collections of items; immutability ensures safety, consistency, and faster performance.\n",
        "\n",
        "---\n",
        "\n",
        "**7. What is the difference between “==” and “is” operators in Python?**\n",
        "\n",
        "== → Checks value equality (whether values are the same).\n",
        "\n",
        "is → Checks identity (whether two variables point to the same memory location).\n",
        "\n",
        "\n",
        "---\n",
        "**8. What are logical operators in Python?**\n",
        "\n",
        "Logical operators combine conditions:\n",
        "\n",
        "and → True if both conditions are true.\n",
        "\n",
        "or → True if at least one condition is true.\n",
        "\n",
        "not → Negates a condition.\n",
        "\n",
        "---\n",
        "\n",
        "**9. What is type casting in Python?**\n",
        "\n",
        "Type casting = Converting one data type into another.\n",
        "\n",
        "---\n",
        "\n",
        "**10. What is the difference between implicit and explicit type casting?**\n",
        "\n",
        "Implicit casting (Type Conversion): Done automatically by Python.\n",
        "\n",
        "Explicit casting (Type Casting): Done manually by programmer.\n",
        "\n",
        "---\n",
        "**11. What is the purpose of conditional statements in Python?**\n",
        "\n",
        "Conditional statements (if, elif, else) are used to make decisions in a program by executing different blocks of code depending on conditions.\n",
        "\n",
        "\n",
        "\n",
        "---\n",
        "**Q12. How does the elif statement work?**\n",
        "\n",
        "elif means \"else if\".\n",
        "It checks multiple conditions sequentially after an if. Only the first true condition's block executes.\n",
        "\n",
        "---\n",
        "**Q13. What is the difference between for and while loops?**\n",
        "\n",
        "for loop → Used when the number of iterations is known or finite.\n",
        "\n",
        "while loop → Used when the number of iterations is unknown, and depends on a condition.\n",
        "\n",
        "\n"
      ],
      "metadata": {
        "id": "jFSCGehd0Mw0"
      }
    },
    {
      "cell_type": "code",
      "source": [
        "'''\n",
        "14. Describe a scenario where a while loop is more suitable than a for loop.\n",
        "\n",
        "When you don’t know beforehand how many times the loop should run.\n",
        "Example: Keep asking for user input until they type \"exit\".\n",
        "'''\n",
        "while True:\n",
        "    text = input(\"Enter text (type 'exit' to stop): \")\n",
        "    if text == \"exit\":\n",
        "        break"
      ],
      "metadata": {
        "colab": {
          "base_uri": "https://localhost:8080/"
        },
        "id": "pftPQ9Ym0SnU",
        "outputId": "08b00416-c180-4962-cff5-83c18795d393"
      },
      "execution_count": 1,
      "outputs": [
        {
          "name": "stdout",
          "output_type": "stream",
          "text": [
            "Enter text (type 'exit' to stop): no\n",
            "Enter text (type 'exit' to stop): yes\n",
            "Enter text (type 'exit' to stop): hello\n",
            "Enter text (type 'exit' to stop): exit\n"
          ]
        }
      ]
    },
    {
      "cell_type": "markdown",
      "source": [
        "# Practical Questions"
      ],
      "metadata": {
        "id": "Y6GDKWY-5zJI"
      }
    },
    {
      "cell_type": "code",
      "source": [
        "#Q1. Write a Python program to print \"Hello, World! .\n",
        "\n",
        "print(\"Hello World\")"
      ],
      "metadata": {
        "colab": {
          "base_uri": "https://localhost:8080/"
        },
        "id": "FsadFJRT51hU",
        "outputId": "1632dc95-533f-40f9-d752-08e01c007faf"
      },
      "execution_count": 4,
      "outputs": [
        {
          "output_type": "stream",
          "name": "stdout",
          "text": [
            "Hello World\n"
          ]
        }
      ]
    },
    {
      "cell_type": "code",
      "source": [
        "#Write a Python program that displays your name and age.\n",
        "name=input(\"Enter your name : \")\n",
        "age=int(input(\"Enter your age : \"))\n",
        "print(\"Name : \",name)\n",
        "print(\"Age : \",age)"
      ],
      "metadata": {
        "colab": {
          "base_uri": "https://localhost:8080/"
        },
        "id": "I0mTGsYF6E-G",
        "outputId": "8d115e17-9a9d-4106-b173-dc3dff5c4c8e"
      },
      "execution_count": 5,
      "outputs": [
        {
          "output_type": "stream",
          "name": "stdout",
          "text": [
            "Enter your name : Awanit Saha\n",
            "Enter your age : 21\n",
            "Name :  Awanit Saha\n",
            "Age :  21\n"
          ]
        }
      ]
    },
    {
      "cell_type": "code",
      "source": [
        "#Write code to print all the pre-defined keywords in Python using the keyword library\n",
        "import keyword\n",
        "\n",
        "for k in keyword.kwlist:\n",
        "  print(k)"
      ],
      "metadata": {
        "colab": {
          "base_uri": "https://localhost:8080/"
        },
        "id": "wn9E1IZw6bU6",
        "outputId": "bf68c659-03cb-4183-bdc0-f1806fa0292a"
      },
      "execution_count": 14,
      "outputs": [
        {
          "output_type": "stream",
          "name": "stdout",
          "text": [
            "False\n",
            "None\n",
            "True\n",
            "and\n",
            "as\n",
            "assert\n",
            "async\n",
            "await\n",
            "break\n",
            "class\n",
            "continue\n",
            "def\n",
            "del\n",
            "elif\n",
            "else\n",
            "except\n",
            "finally\n",
            "for\n",
            "from\n",
            "global\n",
            "if\n",
            "import\n",
            "in\n",
            "is\n",
            "lambda\n",
            "nonlocal\n",
            "not\n",
            "or\n",
            "pass\n",
            "raise\n",
            "return\n",
            "try\n",
            "while\n",
            "with\n",
            "yield\n"
          ]
        }
      ]
    },
    {
      "cell_type": "code",
      "source": [
        " #Write a program that checks if a given word is a Python keyword.\n",
        "\n",
        "word=input(\"Enter a word : \")\n",
        "\n",
        "if word in keyword.kwlist:\n",
        "  print(f\"{word} is in the keyword\")\n",
        "\n",
        "else :\n",
        "  print(f\"{word} is not in the Keyword\")"
      ],
      "metadata": {
        "colab": {
          "base_uri": "https://localhost:8080/"
        },
        "id": "YlJlTbw36nGv",
        "outputId": "3f4b93fc-06b1-4d36-a684-1ea2cefdd4d1"
      },
      "execution_count": 26,
      "outputs": [
        {
          "output_type": "stream",
          "name": "stdout",
          "text": [
            "Enter a word : TRUE\n",
            "TRUE is not in the Keyword\n"
          ]
        }
      ]
    },
    {
      "cell_type": "code",
      "source": [
        "\n",
        "#5. Create a list and tuple in Python, and demonstrate how attempting to change an element works differently for each.\n",
        "\n",
        "lis=[\"Hello\", 1,2,3,4]\n",
        "tup=(\"Hello\", 1,2,3,4)\n",
        "print(lis)\n",
        "print(tup)\n",
        "\n",
        "lis.append(5)\n",
        "print(lis)\n",
        "\n",
        "tup.append(5)\n",
        "print(tup)"
      ],
      "metadata": {
        "colab": {
          "base_uri": "https://localhost:8080/",
          "height": 256
        },
        "id": "hYBFYx8M7Tsi",
        "outputId": "2bd66083-ae75-4799-cb4d-f7e5c663f6a1"
      },
      "execution_count": 23,
      "outputs": [
        {
          "output_type": "stream",
          "name": "stdout",
          "text": [
            "['Hello', 1, 2, 3, 4]\n",
            "('Hello', 1, 2, 3, 4)\n",
            "['Hello', 1, 2, 3, 4, 5]\n"
          ]
        },
        {
          "output_type": "error",
          "ename": "AttributeError",
          "evalue": "'tuple' object has no attribute 'append'",
          "traceback": [
            "\u001b[0;31m---------------------------------------------------------------------------\u001b[0m",
            "\u001b[0;31mAttributeError\u001b[0m                            Traceback (most recent call last)",
            "\u001b[0;32m/tmp/ipython-input-3133775982.py\u001b[0m in \u001b[0;36m<cell line: 0>\u001b[0;34m()\u001b[0m\n\u001b[1;32m      9\u001b[0m \u001b[0mprint\u001b[0m\u001b[0;34m(\u001b[0m\u001b[0mlis\u001b[0m\u001b[0;34m)\u001b[0m\u001b[0;34m\u001b[0m\u001b[0;34m\u001b[0m\u001b[0m\n\u001b[1;32m     10\u001b[0m \u001b[0;34m\u001b[0m\u001b[0m\n\u001b[0;32m---> 11\u001b[0;31m \u001b[0mtup\u001b[0m\u001b[0;34m.\u001b[0m\u001b[0mappend\u001b[0m\u001b[0;34m(\u001b[0m\u001b[0;36m5\u001b[0m\u001b[0;34m)\u001b[0m\u001b[0;34m\u001b[0m\u001b[0;34m\u001b[0m\u001b[0m\n\u001b[0m\u001b[1;32m     12\u001b[0m \u001b[0mprint\u001b[0m\u001b[0;34m(\u001b[0m\u001b[0mtup\u001b[0m\u001b[0;34m)\u001b[0m\u001b[0;34m\u001b[0m\u001b[0;34m\u001b[0m\u001b[0m\n",
            "\u001b[0;31mAttributeError\u001b[0m: 'tuple' object has no attribute 'append'"
          ]
        }
      ]
    },
    {
      "cell_type": "code",
      "source": [
        "#6. Write a function to demonstrate the behavior of mutable and immutable arguments\n",
        "# Function to modify arguments\n",
        "def modify_values(a, b):\n",
        "    a = a + 10          # Immutable (int) → changes won't affect outside\n",
        "    b.append(100)       # Mutable (list) → changes will affect outside\n",
        "    print(\"Inside function:\")\n",
        "    print(\"a:\", a)\n",
        "    print(\"b:\", b)\n",
        "\n",
        "\n",
        "# Immutable argument (integer)\n",
        "x = 5\n",
        "\n",
        "# Mutable argument (list)\n",
        "y = [1, 2, 3]\n",
        "\n",
        "print(\"Before function call:\")\n",
        "print(\"x:\", x)\n",
        "print(\"y:\", y)\n",
        "\n",
        "# Function call\n",
        "modify_values(x, y)\n",
        "\n",
        "print(\"\\nAfter function call:\")\n",
        "print(\"x:\", x)   # unchanged\n",
        "print(\"y:\", y)   # modified\n"
      ],
      "metadata": {
        "colab": {
          "base_uri": "https://localhost:8080/"
        },
        "id": "ll5s9fw98K8Q",
        "outputId": "36a9f1ce-6fc7-4f82-8103-e81afa25d5aa"
      },
      "execution_count": 29,
      "outputs": [
        {
          "output_type": "stream",
          "name": "stdout",
          "text": [
            "Before function call:\n",
            "x: 5\n",
            "y: [1, 2, 3]\n",
            "Inside function:\n",
            "a: 15\n",
            "b: [1, 2, 3, 100]\n",
            "\n",
            "After function call:\n",
            "x: 5\n",
            "y: [1, 2, 3, 100]\n"
          ]
        }
      ]
    },
    {
      "cell_type": "code",
      "source": [
        "#7. Program for Basic Arithmetic Operations\n",
        "\n",
        "\n",
        "# Taking user input\n",
        "a = float(input(\"Enter first number: \"))\n",
        "b = float(input(\"Enter second number: \"))\n",
        "\n",
        "print(\"Addition:\", a + b)\n",
        "print(\"Subtraction:\", a - b)\n",
        "print(\"Multiplication:\", a * b)\n",
        "print(\"Division:\", a / b if b != 0 else \"Division by zero not allowed\")\n",
        "print(\"Modulus:\", a % b if b != 0 else \"Modulus by zero not allowed\")\n",
        "print(\"Power:\", a ** b)"
      ],
      "metadata": {
        "colab": {
          "base_uri": "https://localhost:8080/"
        },
        "id": "xt3DoeEe80hU",
        "outputId": "a117278b-6850-45b8-d555-43d22d24f61b"
      },
      "execution_count": 30,
      "outputs": [
        {
          "output_type": "stream",
          "name": "stdout",
          "text": [
            "Enter first number: 12.3\n",
            "Enter second number: 122\n",
            "Addition: 134.3\n",
            "Subtraction: -109.7\n",
            "Multiplication: 1500.6000000000001\n",
            "Division: 0.10081967213114755\n",
            "Modulus: 12.3\n",
            "Power: 9.298729100375447e+132\n"
          ]
        }
      ]
    },
    {
      "cell_type": "code",
      "source": [
        "#8.Program to Demonstrate Logical Operators\n",
        "x = True\n",
        "y = False\n",
        "\n",
        "print(\"x and y:\", x and y)\n",
        "print(\"x or y:\", x or y)\n",
        "print(\"not x:\", not x)"
      ],
      "metadata": {
        "colab": {
          "base_uri": "https://localhost:8080/"
        },
        "id": "-3mEGwCm9xIX",
        "outputId": "c7e059ae-889b-44fd-fe5c-8d7cb38b2eba"
      },
      "execution_count": 31,
      "outputs": [
        {
          "output_type": "stream",
          "name": "stdout",
          "text": [
            "x and y: False\n",
            "x or y: True\n",
            "not x: False\n"
          ]
        }
      ]
    },
    {
      "cell_type": "code",
      "source": [
        "# 9. Program for Type Conversion of User Input\n",
        "user_input = input(\"Enter a value: \")\n",
        "\n",
        "# Converting into different types\n",
        "as_int = int(user_input)\n",
        "as_float = float(user_input)\n",
        "as_bool = bool(user_input)\n",
        "\n",
        "print(\"Integer:\", as_int)\n",
        "print(\"Float:\", as_float)\n",
        "print(\"Boolean:\", as_bool)"
      ],
      "metadata": {
        "colab": {
          "base_uri": "https://localhost:8080/"
        },
        "id": "Le-fNcxS-DQ7",
        "outputId": "2480782e-6c5a-4be6-e426-144315866a49"
      },
      "execution_count": 32,
      "outputs": [
        {
          "output_type": "stream",
          "name": "stdout",
          "text": [
            "Enter a value: 5\n",
            "Integer: 5\n",
            "Float: 5.0\n",
            "Boolean: True\n"
          ]
        }
      ]
    },
    {
      "cell_type": "code",
      "source": [
        "#10. Demonstrating Type Casting with List Elements\n",
        "\n",
        "string_list = [\"10\", \"20\", \"30\"]\n",
        "\n",
        "int_list = [int(x) for x in string_list]\n",
        "\n",
        "# Convert each element to float\n",
        "float_list = [float(x) for x in string_list]\n",
        "\n",
        "print(\"Original (string) list:\", string_list)\n",
        "print(\"After casting to integers:\", int_list)\n",
        "print(\"After casting to floats:\", float_list)"
      ],
      "metadata": {
        "colab": {
          "base_uri": "https://localhost:8080/"
        },
        "id": "24jahH-N-RAF",
        "outputId": "00803fc6-095b-485c-cda4-81aa5ce7589b"
      },
      "execution_count": 33,
      "outputs": [
        {
          "output_type": "stream",
          "name": "stdout",
          "text": [
            "Original (string) list: ['10', '20', '30']\n",
            "After casting to integers: [10, 20, 30]\n",
            "After casting to floats: [10.0, 20.0, 30.0]\n"
          ]
        }
      ]
    },
    {
      "cell_type": "code",
      "source": [
        "# 11. Write a program that checks if a number is positive, negative, or zero.\n",
        "\n",
        "num=int(input(\"Enter a number :\"))\n",
        "\n",
        "if num>0:\n",
        "  print(\"Number is Positive .\")\n",
        "elif num==0:\n",
        "  print(\"The Number is Zero .\")\n",
        "\n",
        "else :\n",
        "  print(\"The Number is Negative\")"
      ],
      "metadata": {
        "colab": {
          "base_uri": "https://localhost:8080/"
        },
        "id": "ftMI49WU-iu-",
        "outputId": "fd5755e2-1dfa-4012-f3ab-0b820aa45608"
      },
      "execution_count": 36,
      "outputs": [
        {
          "output_type": "stream",
          "name": "stdout",
          "text": [
            "Enter a number :-2\n",
            "The Number is Negative\n"
          ]
        }
      ]
    },
    {
      "cell_type": "code",
      "source": [
        "#12. Write a for loop to print numbers from 1 to 10.\n",
        "for i in range(1, 11):\n",
        "    print(i)"
      ],
      "metadata": {
        "colab": {
          "base_uri": "https://localhost:8080/"
        },
        "id": "atI8Uy9F--JM",
        "outputId": "a721169f-2070-41af-8610-89e0d419202e"
      },
      "execution_count": 37,
      "outputs": [
        {
          "output_type": "stream",
          "name": "stdout",
          "text": [
            "1\n",
            "2\n",
            "3\n",
            "4\n",
            "5\n",
            "6\n",
            "7\n",
            "8\n",
            "9\n",
            "10\n"
          ]
        }
      ]
    },
    {
      "cell_type": "code",
      "source": [
        "#13. Write a Python program to find the sum of all even numbers between 1 and 50.\n",
        "sum=0;\n",
        "for i in range(1,51):\n",
        "  if(i%2!=0):\n",
        "    pass\n",
        "  else :\n",
        "    sum+=i\n",
        "print(sum)"
      ],
      "metadata": {
        "colab": {
          "base_uri": "https://localhost:8080/"
        },
        "id": "dD-FPcso_QHL",
        "outputId": "140bb4fb-680d-421e-dce0-326eb4037cf1"
      },
      "execution_count": 42,
      "outputs": [
        {
          "output_type": "stream",
          "name": "stdout",
          "text": [
            "650\n"
          ]
        }
      ]
    },
    {
      "cell_type": "code",
      "source": [
        "#14. Write a program to reverse a string using a while loop.\n",
        "str=input(\"Enter a string : \")\n",
        "rev=\"\"\n",
        "i=len(str)-1\n",
        "while i>-1:\n",
        "  rev+=str[i]\n",
        "  i-=1\n",
        "print(rev)"
      ],
      "metadata": {
        "colab": {
          "base_uri": "https://localhost:8080/"
        },
        "id": "dhzxa_Ii_e6K",
        "outputId": "facd92df-bfd1-4cfb-c6ad-e3aca5dc89bd"
      },
      "execution_count": 43,
      "outputs": [
        {
          "output_type": "stream",
          "name": "stdout",
          "text": [
            "Enter a string : PWskills\n",
            "slliksWP\n"
          ]
        }
      ]
    },
    {
      "cell_type": "code",
      "source": [
        "#15. Write a Python program to calculate the factorial of a number provided by the user using a while loop.\n",
        "num=int(input(\"Enter a number : \"))\n",
        "fact=1\n",
        "i=num\n",
        "while i>0 :\n",
        "  fact=fact*i\n",
        "  i-=1\n",
        "\n",
        "print(fact)"
      ],
      "metadata": {
        "colab": {
          "base_uri": "https://localhost:8080/"
        },
        "id": "2r2NVL1mAH_N",
        "outputId": "5f34ddd8-8118-4644-ee4e-f551fd54b5d0"
      },
      "execution_count": 51,
      "outputs": [
        {
          "output_type": "stream",
          "name": "stdout",
          "text": [
            "Enter a number : 5\n",
            "120\n"
          ]
        }
      ]
    },
    {
      "cell_type": "code",
      "source": [],
      "metadata": {
        "id": "KmGHQJQpAnF8"
      },
      "execution_count": null,
      "outputs": []
    }
  ]
}